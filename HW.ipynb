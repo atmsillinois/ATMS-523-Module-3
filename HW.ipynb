{
 "cells": [
  {
   "cell_type": "markdown",
   "id": "41c19f96",
   "metadata": {},
   "source": [
    "Zachary Torstrick  \n",
    "HW3  \n",
    "ATMS 523  \n",
    "UIUC  \n",
    "Fall 2025  \n",
    "\n",
    "---\n",
    "\n",
    "## Assignment Overview\n",
    "This notebook contains the solution for Module 3 Project, which involves:\n",
    "1. Adapting code to read GHCN Daily Data and calculate temperature statistics\n",
    "2. Creating a matplotlib plot showing record, average, and actual temperatures\n"
   ]
  },
  {
   "cell_type": "markdown",
   "id": "3c2afb30",
   "metadata": {},
   "source": [
    "### Part 1: Temperature Statistics Function\n",
    "\n",
    "Adapt the code from class that reads GHCN Daily Data from Amazon Web Services and write a function that will download the station you want (called with a GHCN station ID), and calculate (1) the all time record high and low and (2) the normal (mean) high and low temperature *FOR EACH CALENDAR DAY* for the 1991-2020 period for the desired station.  The function should return a pandas data frame with the columns ['record_min_temp', average_min_temp', 'average_max_temp', record_max_temp'] FOR EACH DAY.  Write a code that can call this function and successfully demonstrate that it works."
   ]
  },
  {
   "cell_type": "code",
   "execution_count": 74,
   "id": "abe8a02b",
   "metadata": {},
   "outputs": [
    {
     "name": "stdout",
     "output_type": "stream",
     "text": [
      "      record_max_temp  average_max_temp  record_min_temp  average_min_temp\n",
      "DATE                                                                      \n",
      "1                16.1          4.080000            -20.6         -4.036667\n",
      "2                16.1          3.926667            -21.7         -5.436667\n",
      "3                18.9          3.720000            -21.7         -4.073333\n",
      "4                17.2          4.565517            -17.8         -4.730000\n",
      "5                18.9          3.556667            -20.6         -5.280000\n",
      "...               ...               ...              ...               ...\n",
      "362              17.8          4.163333            -18.9         -4.660000\n",
      "363              20.0          5.368966            -16.7         -3.679310\n",
      "364              17.8          4.743333            -17.2         -3.920000\n",
      "365              13.9          4.023333            -17.2         -3.443333\n",
      "366              16.1          7.287500            -10.0         -2.275000\n",
      "\n",
      "[366 rows x 4 columns]\n"
     ]
    },
    {
     "name": "stderr",
     "output_type": "stream",
     "text": [
      "C:\\Users\\ztors\\AppData\\Local\\Temp\\ipykernel_15124\\2183910938.py:49: DtypeWarning: Columns (6) have mixed types. Specify dtype option on import or set low_memory=False.\n",
      "  df = pd.read_csv(\n"
     ]
    }
   ],
   "source": [
    "import pandas as pd\n",
    "\n",
    "def convert_temperatures_to_celsius(df, temp_columns):\n",
    "    \"\"\"\n",
    "    Convert GHCN temperature data from tenths of degrees Celsius to degrees Celsius.\n",
    "    \n",
    "    Parameters:\n",
    "    -----------\n",
    "    df : pandas.DataFrame\n",
    "        DataFrame containing temperature columns\n",
    "    temp_columns : list\n",
    "        List of column names to convert\n",
    "    \n",
    "    Returns:\n",
    "    --------\n",
    "    pandas.DataFrame\n",
    "        DataFrame with temperature columns converted to degrees Celsius\n",
    "    \"\"\"\n",
    "    df_converted = df.copy()\n",
    "    for col in temp_columns:\n",
    "        if col in df_converted.columns:\n",
    "            df_converted[col] = df_converted[col] / 10.0\n",
    "    \n",
    "    return df_converted\n",
    "\n",
    "def get_ghcn_station_stats(ghcn_station_id):\n",
    "    \"\"\"\n",
    "    Calculate temperature statistics for a GHCN weather station.\n",
    "    \n",
    "    This function downloads weather data for a specified station and calculates\n",
    "    record and average temperature statistics for each calendar day during the\n",
    "    1991-2020 period.\n",
    "    \n",
    "    Parameters:\n",
    "    -----------\n",
    "    ghcn_station_id : str\n",
    "        The GHCN station identifier (e.g., 'USC00120784')\n",
    "    \n",
    "    Returns:\n",
    "    --------\n",
    "    pandas.DataFrame\n",
    "        DataFrame with columns:\n",
    "        - day_of_year: Day of year (1-366)\n",
    "        - record_min_temp: Minimum temperature ever recorded (°C)\n",
    "        - average_min_temp: Average minimum temperature (°C) \n",
    "        - record_max_temp: Maximum temperature ever recorded (°C)\n",
    "        - average_max_temp: Average maximum temperature (°C)\n",
    "    \"\"\"\n",
    "    df = pd.read_csv(\n",
    "        f\"s3://noaa-ghcn-pds/csv/by_station/{ghcn_station_id}.csv\",\n",
    "        storage_options={\"anon\": True},  # passed to `s3fs.S3FileSystem`\n",
    "            dtype={'Q_FLAG': 'object', 'M_FLAG': 'object'},\n",
    "            parse_dates=['DATE']\n",
    "    ).set_index('DATE')\n",
    "    \n",
    "    # Filter to 1991-2020 period\n",
    "    df_1991_2020 = df[(df.index.year >= 1991) & (df.index.year <= 2020)]\n",
    "\n",
    "    # Filter to TMAX and TMIN elements\n",
    "    df_tmax = df_1991_2020[df_1991_2020['ELEMENT'] == 'TMAX']\n",
    "    df_tmin = df_1991_2020[df_1991_2020['ELEMENT'] == 'TMIN']\n",
    "\n",
    "    # Drop any NaN before calculating the average\n",
    "    df_tmax = df_tmax.dropna(subset=['DATA_VALUE'])\n",
    "    df_tmin = df_tmin.dropna(subset=['DATA_VALUE'])\n",
    "\n",
    "    tmax_by_calendar_day = df_tmax.groupby(df_tmax.index.dayofyear).agg(\n",
    "        record_max_temp=('DATA_VALUE', 'max'),\n",
    "        average_max_temp=('DATA_VALUE', 'mean')\n",
    "    )\n",
    "\n",
    "    tmin_by_calendar_day = df_tmin.groupby(df_tmin.index.dayofyear).agg(\n",
    "        record_min_temp=('DATA_VALUE', 'min'),\n",
    "        average_min_temp=('DATA_VALUE', 'mean')\n",
    "    )\n",
    "    \n",
    "    # Join the two dataframes on the day_of_year column\n",
    "    df_by_calendar_day = pd.merge(\n",
    "        tmax_by_calendar_day, \n",
    "        tmin_by_calendar_day, \n",
    "        on=['DATE'])\n",
    "\n",
    "    # Convert temperatures to Celsius\n",
    "    temp_columns = ['record_min_temp', 'average_min_temp', 'record_max_temp', 'average_max_temp']\n",
    "    df_by_calendar_day = convert_temperatures_to_celsius(df_by_calendar_day, temp_columns)\n",
    "\n",
    "    return df_by_calendar_day\n",
    "\n",
    "ghcn_station_id = 'USC00120784' # BLOOMINGTON INDIANA UNIV\n",
    "\n",
    "df_bloomington = get_ghcn_station_stats(ghcn_station_id)\n",
    "print(df_bloomington)\n",
    "\n"
   ]
  },
  {
   "cell_type": "markdown",
   "id": "e8ce9696",
   "metadata": {},
   "source": [
    "## Part 2: Weather Visualization Plot\n",
    "\n",
    "Develop a plot (using matplotlib) that displays for the city of choice a plot showing the record, average, and actual high and low temperatures for that year and city for each day over the calendar year.  Note: You do not need to make the chart interactive, you can just plot the data from a your city and for the year of your choice."
   ]
  },
  {
   "cell_type": "code",
   "execution_count": 75,
   "id": "25b49408",
   "metadata": {},
   "outputs": [
    {
     "name": "stderr",
     "output_type": "stream",
     "text": [
      "C:\\Users\\ztors\\AppData\\Local\\Temp\\ipykernel_15124\\399301255.py:6: DtypeWarning: Columns (6) have mixed types. Specify dtype option on import or set low_memory=False.\n",
      "  df = pd.read_csv(\n"
     ]
    },
    {
     "data": {
      "text/html": [
       "    <style>\n",
       "        .bk-notebook-logo {\n",
       "            display: block;\n",
       "            width: 20px;\n",
       "            height: 20px;\n",
       "            background-image: url(data:image/png;base64,iVBORw0KGgoAAAANSUhEUgAAABQAAAAUCAYAAACNiR0NAAAABHNCSVQICAgIfAhkiAAAAAlwSFlzAAALEgAACxIB0t1+/AAAABx0RVh0U29mdHdhcmUAQWRvYmUgRmlyZXdvcmtzIENTNui8sowAAAOkSURBVDiNjZRtaJVlGMd/1/08zzln5zjP1LWcU9N0NkN8m2CYjpgQYQXqSs0I84OLIC0hkEKoPtiH3gmKoiJDU7QpLgoLjLIQCpEsNJ1vqUOdO7ppbuec5+V+rj4ctwzd8IIbbi6u+8f1539dt3A78eXC7QizUF7gyV1fD1Yqg4JWz84yffhm0qkFqBogB9rM8tZdtwVsPUhWhGcFJngGeWrPzHm5oaMmkfEg1usvLFyc8jLRqDOMru7AyC8saQr7GG7f5fvDeH7Ej8CM66nIF+8yngt6HWaKh7k49Soy9nXurCi1o3qUbS3zWfrYeQDTB/Qj6kX6Ybhw4B+bOYoLKCC9H3Nu/leUTZ1JdRWkkn2ldcCamzrcf47KKXdAJllSlxAOkRgyHsGC/zRday5Qld9DyoM4/q/rUoy/CXh3jzOu3bHUVZeU+DEn8FInkPBFlu3+nW3Nw0mk6vCDiWg8CeJaxEwuHS3+z5RgY+YBR6V1Z1nxSOfoaPa4LASWxxdNp+VWTk7+4vzaou8v8PN+xo+KY2xsw6une2frhw05CTYOmQvsEhjhWjn0bmXPjpE1+kplmmkP3suftwTubK9Vq22qKmrBhpY4jvd5afdRA3wGjFAgcnTK2s4hY0/GPNIb0nErGMCRxWOOX64Z8RAC4oCXdklmEvcL8o0BfkNK4lUg9HTl+oPlQxdNo3Mg4Nv175e/1LDGzZen30MEjRUtmXSfiTVu1kK8W4txyV6BMKlbgk3lMwYCiusNy9fVfvvwMxv8Ynl6vxoByANLTWplvuj/nF9m2+PDtt1eiHPBr1oIfhCChQMBw6Aw0UulqTKZdfVvfG7VcfIqLG9bcldL/+pdWTLxLUy8Qq38heUIjh4XlzZxzQm19lLFlr8vdQ97rjZVOLf8nclzckbcD4wxXMidpX30sFd37Fv/GtwwhzhxGVAprjbg0gCAEeIgwCZyTV2Z1REEW8O4py0wsjeloKoMr6iCY6dP92H6Vw/oTyICIthibxjm/DfN9lVz8IqtqKYLUXfoKVMVQVVJOElGjrnnUt9T9wbgp8AyYKaGlqingHZU/uG2NTZSVqwHQTWkx9hxjkpWDaCg6Ckj5qebgBVbT3V3NNXMSiWSDdGV3hrtzla7J+duwPOToIg42ChPQOQjspnSlp1V+Gjdged7+8UN5CRAV7a5EdFNwCjEaBR27b3W890TE7g24NAP/mMDXRWrGoFPQI9ls/MWO2dWFAar/xcOIImbbpA3zgAAAABJRU5ErkJggg==);\n",
       "        }\n",
       "    </style>\n",
       "    <div>\n",
       "        <a href=\"https://bokeh.org\" target=\"_blank\" class=\"bk-notebook-logo\"></a>\n",
       "        <span id=\"cb1ed3e0-47e1-4688-90a8-da8772e129cf\">Loading BokehJS ...</span>\n",
       "    </div>\n"
      ]
     },
     "metadata": {},
     "output_type": "display_data"
    },
    {
     "data": {
      "application/javascript": "'use strict';\n(function(root) {\n  function now() {\n    return new Date();\n  }\n\n  const force = true;\n\n  if (typeof root._bokeh_onload_callbacks === \"undefined\" || force === true) {\n    root._bokeh_onload_callbacks = [];\n    root._bokeh_is_loading = undefined;\n  }\n\nconst JS_MIME_TYPE = 'application/javascript';\n  const HTML_MIME_TYPE = 'text/html';\n  const EXEC_MIME_TYPE = 'application/vnd.bokehjs_exec.v0+json';\n  const CLASS_NAME = 'output_bokeh rendered_html';\n\n  /**\n   * Render data to the DOM node\n   */\n  function render(props, node) {\n    const script = document.createElement(\"script\");\n    node.appendChild(script);\n  }\n\n  /**\n   * Handle when an output is cleared or removed\n   */\n  function handleClearOutput(event, handle) {\n    function drop(id) {\n      const view = Bokeh.index.get_by_id(id)\n      if (view != null) {\n        view.model.document.clear()\n        Bokeh.index.delete(view)\n      }\n    }\n\n    const cell = handle.cell;\n\n    const id = cell.output_area._bokeh_element_id;\n    const server_id = cell.output_area._bokeh_server_id;\n\n    // Clean up Bokeh references\n    if (id != null) {\n      drop(id)\n    }\n\n    if (server_id !== undefined) {\n      // Clean up Bokeh references\n      const cmd_clean = \"from bokeh.io.state import curstate; print(curstate().uuid_to_server['\" + server_id + \"'].get_sessions()[0].document.roots[0]._id)\";\n      cell.notebook.kernel.execute(cmd_clean, {\n        iopub: {\n          output: function(msg) {\n            const id = msg.content.text.trim()\n            drop(id)\n          }\n        }\n      });\n      // Destroy server and session\n      const cmd_destroy = \"import bokeh.io.notebook as ion; ion.destroy_server('\" + server_id + \"')\";\n      cell.notebook.kernel.execute(cmd_destroy);\n    }\n  }\n\n  /**\n   * Handle when a new output is added\n   */\n  function handleAddOutput(event, handle) {\n    const output_area = handle.output_area;\n    const output = handle.output;\n\n    // limit handleAddOutput to display_data with EXEC_MIME_TYPE content only\n    if ((output.output_type != \"display_data\") || (!Object.prototype.hasOwnProperty.call(output.data, EXEC_MIME_TYPE))) {\n      return\n    }\n\n    const toinsert = output_area.element.find(\".\" + CLASS_NAME.split(' ')[0]);\n\n    if (output.metadata[EXEC_MIME_TYPE][\"id\"] !== undefined) {\n      toinsert[toinsert.length - 1].firstChild.textContent = output.data[JS_MIME_TYPE];\n      // store reference to embed id on output_area\n      output_area._bokeh_element_id = output.metadata[EXEC_MIME_TYPE][\"id\"];\n    }\n    if (output.metadata[EXEC_MIME_TYPE][\"server_id\"] !== undefined) {\n      const bk_div = document.createElement(\"div\");\n      bk_div.innerHTML = output.data[HTML_MIME_TYPE];\n      const script_attrs = bk_div.children[0].attributes;\n      for (let i = 0; i < script_attrs.length; i++) {\n        toinsert[toinsert.length - 1].firstChild.setAttribute(script_attrs[i].name, script_attrs[i].value);\n        toinsert[toinsert.length - 1].firstChild.textContent = bk_div.children[0].textContent\n      }\n      // store reference to server id on output_area\n      output_area._bokeh_server_id = output.metadata[EXEC_MIME_TYPE][\"server_id\"];\n    }\n  }\n\n  function register_renderer(events, OutputArea) {\n\n    function append_mime(data, metadata, element) {\n      // create a DOM node to render to\n      const toinsert = this.create_output_subarea(\n        metadata,\n        CLASS_NAME,\n        EXEC_MIME_TYPE\n      );\n      this.keyboard_manager.register_events(toinsert);\n      // Render to node\n      const props = {data: data, metadata: metadata[EXEC_MIME_TYPE]};\n      render(props, toinsert[toinsert.length - 1]);\n      element.append(toinsert);\n      return toinsert\n    }\n\n    /* Handle when an output is cleared or removed */\n    events.on('clear_output.CodeCell', handleClearOutput);\n    events.on('delete.Cell', handleClearOutput);\n\n    /* Handle when a new output is added */\n    events.on('output_added.OutputArea', handleAddOutput);\n\n    /**\n     * Register the mime type and append_mime function with output_area\n     */\n    OutputArea.prototype.register_mime_type(EXEC_MIME_TYPE, append_mime, {\n      /* Is output safe? */\n      safe: true,\n      /* Index of renderer in `output_area.display_order` */\n      index: 0\n    });\n  }\n\n  // register the mime type if in Jupyter Notebook environment and previously unregistered\n  if (root.Jupyter !== undefined) {\n    const events = require('base/js/events');\n    const OutputArea = require('notebook/js/outputarea').OutputArea;\n\n    if (OutputArea.prototype.mime_types().indexOf(EXEC_MIME_TYPE) == -1) {\n      register_renderer(events, OutputArea);\n    }\n  }\n  if (typeof (root._bokeh_timeout) === \"undefined\" || force === true) {\n    root._bokeh_timeout = Date.now() + 5000;\n    root._bokeh_failed_load = false;\n  }\n\n  const NB_LOAD_WARNING = {'data': {'text/html':\n     \"<div style='background-color: #fdd'>\\n\"+\n     \"<p>\\n\"+\n     \"BokehJS does not appear to have successfully loaded. If loading BokehJS from CDN, this \\n\"+\n     \"may be due to a slow or bad network connection. Possible fixes:\\n\"+\n     \"</p>\\n\"+\n     \"<ul>\\n\"+\n     \"<li>re-rerun `output_notebook()` to attempt to load from CDN again, or</li>\\n\"+\n     \"<li>use INLINE resources instead, as so:</li>\\n\"+\n     \"</ul>\\n\"+\n     \"<code>\\n\"+\n     \"from bokeh.resources import INLINE\\n\"+\n     \"output_notebook(resources=INLINE)\\n\"+\n     \"</code>\\n\"+\n     \"</div>\"}};\n\n  function display_loaded(error = null) {\n    const el = document.getElementById(\"cb1ed3e0-47e1-4688-90a8-da8772e129cf\");\n    if (el != null) {\n      const html = (() => {\n        if (typeof root.Bokeh === \"undefined\") {\n          if (error == null) {\n            return \"BokehJS is loading ...\";\n          } else {\n            return \"BokehJS failed to load.\";\n          }\n        } else {\n          const prefix = `BokehJS ${root.Bokeh.version}`;\n          if (error == null) {\n            return `${prefix} successfully loaded.`;\n          } else {\n            return `${prefix} <b>encountered errors</b> while loading and may not function as expected.`;\n          }\n        }\n      })();\n      el.innerHTML = html;\n\n      if (error != null) {\n        const wrapper = document.createElement(\"div\");\n        wrapper.style.overflow = \"auto\";\n        wrapper.style.height = \"5em\";\n        wrapper.style.resize = \"vertical\";\n        const content = document.createElement(\"div\");\n        content.style.fontFamily = \"monospace\";\n        content.style.whiteSpace = \"pre-wrap\";\n        content.style.backgroundColor = \"rgb(255, 221, 221)\";\n        content.textContent = error.stack ?? error.toString();\n        wrapper.append(content);\n        el.append(wrapper);\n      }\n    } else if (Date.now() < root._bokeh_timeout) {\n      setTimeout(() => display_loaded(error), 100);\n    }\n  }\n\n  function run_callbacks() {\n    try {\n      root._bokeh_onload_callbacks.forEach(function(callback) {\n        if (callback != null)\n          callback();\n      });\n    } finally {\n      delete root._bokeh_onload_callbacks\n    }\n    console.debug(\"Bokeh: all callbacks have finished\");\n  }\n\n  function load_libs(css_urls, js_urls, callback) {\n    if (css_urls == null) css_urls = [];\n    if (js_urls == null) js_urls = [];\n\n    root._bokeh_onload_callbacks.push(callback);\n    if (root._bokeh_is_loading > 0) {\n      console.debug(\"Bokeh: BokehJS is being loaded, scheduling callback at\", now());\n      return null;\n    }\n    if (js_urls == null || js_urls.length === 0) {\n      run_callbacks();\n      return null;\n    }\n    console.debug(\"Bokeh: BokehJS not loaded, scheduling load and callback at\", now());\n    root._bokeh_is_loading = css_urls.length + js_urls.length;\n\n    function on_load() {\n      root._bokeh_is_loading--;\n      if (root._bokeh_is_loading === 0) {\n        console.debug(\"Bokeh: all BokehJS libraries/stylesheets loaded\");\n        run_callbacks()\n      }\n    }\n\n    function on_error(url) {\n      console.error(\"failed to load \" + url);\n    }\n\n    for (let i = 0; i < css_urls.length; i++) {\n      const url = css_urls[i];\n      const element = document.createElement(\"link\");\n      element.onload = on_load;\n      element.onerror = on_error.bind(null, url);\n      element.rel = \"stylesheet\";\n      element.type = \"text/css\";\n      element.href = url;\n      console.debug(\"Bokeh: injecting link tag for BokehJS stylesheet: \", url);\n      document.body.appendChild(element);\n    }\n\n    for (let i = 0; i < js_urls.length; i++) {\n      const url = js_urls[i];\n      const element = document.createElement('script');\n      element.onload = on_load;\n      element.onerror = on_error.bind(null, url);\n      element.async = false;\n      element.src = url;\n      console.debug(\"Bokeh: injecting script tag for BokehJS library: \", url);\n      document.head.appendChild(element);\n    }\n  };\n\n  function inject_raw_css(css) {\n    const element = document.createElement(\"style\");\n    element.appendChild(document.createTextNode(css));\n    document.body.appendChild(element);\n  }\n\n  const js_urls = [\"https://cdn.bokeh.org/bokeh/release/bokeh-3.8.0.min.js\", \"https://cdn.bokeh.org/bokeh/release/bokeh-gl-3.8.0.min.js\", \"https://cdn.bokeh.org/bokeh/release/bokeh-widgets-3.8.0.min.js\", \"https://cdn.bokeh.org/bokeh/release/bokeh-tables-3.8.0.min.js\", \"https://cdn.bokeh.org/bokeh/release/bokeh-mathjax-3.8.0.min.js\"];\n  const css_urls = [];\n\n  const inline_js = [    function(Bokeh) {\n      Bokeh.set_log_level(\"info\");\n    },\nfunction(Bokeh) {\n    }\n  ];\n\n  function run_inline_js() {\n    if (root.Bokeh !== undefined || force === true) {\n      try {\n            for (let i = 0; i < inline_js.length; i++) {\n      inline_js[i].call(root, root.Bokeh);\n    }\n\n      } catch (error) {display_loaded(error);throw error;\n      }if (force === true) {\n        display_loaded();\n      }} else if (Date.now() < root._bokeh_timeout) {\n      setTimeout(run_inline_js, 100);\n    } else if (!root._bokeh_failed_load) {\n      console.log(\"Bokeh: BokehJS failed to load within specified timeout.\");\n      root._bokeh_failed_load = true;\n    } else if (force !== true) {\n      const cell = $(document.getElementById(\"cb1ed3e0-47e1-4688-90a8-da8772e129cf\")).parents('.cell').data().cell;\n      cell.output_area.append_execute_result(NB_LOAD_WARNING)\n    }\n  }\n\n  if (root._bokeh_is_loading === 0) {\n    console.debug(\"Bokeh: BokehJS loaded, going straight to plotting\");\n    run_inline_js();\n  } else {\n    load_libs(css_urls, js_urls, function() {\n      console.debug(\"Bokeh: BokehJS plotting callback run at\", now());\n      run_inline_js();\n    });\n  }\n}(window));",
      "application/vnd.bokehjs_load.v0+json": ""
     },
     "metadata": {},
     "output_type": "display_data"
    },
    {
     "data": {
      "text/html": [
       "\n",
       "  <div id=\"d40bcd2f-aeef-419f-b395-1060366299ff\" data-root-id=\"p1656\" style=\"display: contents;\"></div>\n"
      ]
     },
     "metadata": {},
     "output_type": "display_data"
    },
    {
     "data": {
      "application/javascript": "(function(root) {\n  function embed_document(root) {\n  const docs_json = {\"0fbcf3bd-6629-4d07-a972-c098ccef53d9\":{\"version\":\"3.8.0\",\"title\":\"Bokeh Application\",\"config\":{\"type\":\"object\",\"name\":\"DocumentConfig\",\"id\":\"p1723\",\"attributes\":{\"notifications\":{\"type\":\"object\",\"name\":\"Notifications\",\"id\":\"p1724\"}}},\"roots\":[{\"type\":\"object\",\"name\":\"Figure\",\"id\":\"p1656\",\"attributes\":{\"width\":800,\"height\":500,\"x_range\":{\"type\":\"object\",\"name\":\"DataRange1d\",\"id\":\"p1657\"},\"y_range\":{\"type\":\"object\",\"name\":\"DataRange1d\",\"id\":\"p1658\"},\"x_scale\":{\"type\":\"object\",\"name\":\"LinearScale\",\"id\":\"p1666\"},\"y_scale\":{\"type\":\"object\",\"name\":\"LinearScale\",\"id\":\"p1667\"},\"title\":{\"type\":\"object\",\"name\":\"Title\",\"id\":\"p1659\",\"attributes\":{\"text\":\"Daily Temperature for Bloomington, IN (1991-2020)\"}},\"renderers\":[{\"type\":\"object\",\"name\":\"GlyphRenderer\",\"id\":\"p1697\",\"attributes\":{\"data_source\":{\"type\":\"object\",\"name\":\"ColumnDataSource\",\"id\":\"p1691\",\"attributes\":{\"selected\":{\"type\":\"object\",\"name\":\"Selection\",\"id\":\"p1692\",\"attributes\":{\"indices\":[],\"line_indices\":[]}},\"selection_policy\":{\"type\":\"object\",\"name\":\"UnionRenderers\",\"id\":\"p1693\"},\"data\":{\"type\":\"map\",\"entries\":[[\"x\",{\"type\":\"ndarray\",\"array\":{\"type\":\"bytes\",\"data\":\"H4sIAAEAAAAC/w3DBZQIBgAA0BMnDnc4dadO14njnD7uTjenTnPyjsM2s5nedMdCd2wsxKYt2Nh0W4rNCsMYhrH/3v/pAgIC0pvBjAaaycxmMatBZjO7OQw2xJzmMreh5jGv+cxvAcMMt6CFLGwRixphMYtbwpKWsrRlLGs5y1vBSCtaycpWMcqqVjPa6sZYw5rWsrZ1rGs9Y61vA+OMN8GGNrKxTWxqM5vbwpa2srVtbGs725toBzvayc52McmudrO7PexpL3vbx74m28/+DnCggxxsiqkOcahpDnO4I3zBF33Jkb7sKF/xVUf7mmMc6zjHO8GJTvJ133CyU5zqNKc7w5nOcrZznOs857vAhS7yTd/ybd9xsUtc6jKXu8KVrnK1a1zrOte7wY1u8l3fc7NbfN8P/NCP3Oo2t7vDj/3Ene5yt3vc6z73e8BP/czP/cKDHvJLv/KwR/zabzzqMY97wpOe8rRnPOs5z3vBi17yW7/ze3/wR3/ysle86jV/9hev+6u/+bt/+Kc3vOkt//K2d7zr397zvv/4wIc+8l8f+8Sn/ucznxuQDtObwYwGmsnMZjGrQWYzuzkMNsSc5jK3oeYxr/nMbwHDDLeghSxsEYsaYTGLW8KSlrK0ZSxrOctbwUgrWsnKVjHKqlYz2urGWMOa1rK2daxrPWOtbwPjjDfBhjaysU1sajOb28KWtrK1bWxrO9ubaAc72snOdjHJrnazuz3saS9728e+JtvP/g5woIMcbIqpDnGoaf4PqKjfibgFAAA=\"},\"shape\":[366],\"dtype\":\"int32\",\"order\":\"little\"}],[\"y1\",{\"type\":\"ndarray\",\"array\":{\"type\":\"bytes\",\"data\":\"H4sIAAEAAAAC/4VWS24CMQylGxZsKqQK0WokPoLyq1o+LQh1AQfgHNwJrsEBmAO0p0DqnnU3BeznwS8Tms2THfvlJTOxs92cx3s6OY/dh+H313mM0i3Nr8/jZyb2ZJoWLgPzQ7ORB7zkrSeWJ/xTsyVurvanIfJk3bHkrcZmxxA6kH/hf9R9rWakY2R6sD/Jn3ueK37hGxq6dU77hU53jqc4WXdkGDsvd66TZ7Vfjc/x7IaeH/amp3kt1dcNdAvPm/IOoij5HeXtB36g+BuKifLXCO/NFr66xjcNvb9hCD/Q88VR4suG8Mv5PKj+iukGir+oeXeGkv+7F/tIGI8T+wB7ofOLgg6dN79H+A/GI/qqaYxXdSx1H8uYzfuI5QuWKK9s88jzcccFx/u8yj9YXer3MAQ/4vT/IEyW+n3VfiLM4vWeGObzAZsUl+i+26qnQ7wPpCPR/fc0vmv5et8NMQ8EL8chH/p8/MCQ12Xb+/u2H4+xvE4UfXzmZ/3w43w5D7q8vm7w3fLPL9SF84oheGLnxHzQEVvPf+e27YP1+/3XSRf+t1pgM/rzqBkf7Ni9u30/i3T/cO8PQd3xPCW7B1w3fL3M6lt+HQzqYYC+7hz3XF/J3nN9RR7qv8cS1Xesl9V98LPfI/hL1pdQz7l/+r5XDvol9030f/Rr1/+trybWV30f79J8xu/7eDtA7s+Mt3XjXfESvDPgx/sH77DY+wfvGrybgPAD8/NGwXq577mrdxrryX/ntdI/QzDuZnALAAA=\"},\"shape\":[366],\"dtype\":\"float64\",\"order\":\"little\"}],[\"y2\",{\"type\":\"ndarray\",\"array\":{\"type\":\"bytes\",\"data\":\"H4sIAAEAAAAC/31W7VXCQBC0ABtIBT4/nooREIgS0J80YAM0YAO2AQXYAG1gG2mABjyzN5vMXI78mbdfs3N3cLf7XfiKx3ofcfv/NU912X4jtxFv3QfJO8T63Y3bv8f/r6uHbXhn/u2V21pH/vLhvA7nuZW6yLN5SuqVh9fxPLy+IkXWi37TyHOd6Lpov46fcFtG3nH0T1k/4kGf8U2i/8XryI/1hnzqG/LNnjlCN+K27nnknXsc/OiHuPWZeR0wx2vns4jxKuqtuO9u5nEg4uAzPQvXofyEqGuqxAaCb9C/ydRtX+M+vrmN/EH/ccHrP4q+M3y0zyXWvfQ8oOW9MU/T6RmMa32PF7ZhHfUunYcw5CFOecUyycv5rW9t+FOz3fOD3/Zx5XHbn5XHyX+S+En6nEGqV56A0KH+XJ9cHLadz4djuz+f63iea7dp/cHf1n+9O6Ie/dCnrbtcu92mfa/cr7o0rv3tHDsb+aoXunL6ab27ro7yL9ec/52eA+ns6cqhnoueF61nIE91AnN1mqd9BuNNnj/XR3Xm/Pp/4/9v+j8knUX6e87VMb4yNlVyP+k9M3j/FHVy/ymvvid67+u7NPiu4F3rvTt4R9XW94ywmCeo71Xu/bX4mPsGXnoXQ77xTTJ1zx6HH/WYP3huGvs8wbyjZN7TeYXnk0y+z4mTZJ4xvfdeh3mT5qswJ+l8BT/Ne2Ge5HnzLpk30Y/rRqyj1w+61IY+8PwBskrvR3ALAAA=\"},\"shape\":[366],\"dtype\":\"float64\",\"order\":\"little\"}]]}}},\"view\":{\"type\":\"object\",\"name\":\"CDSView\",\"id\":\"p1698\",\"attributes\":{\"filter\":{\"type\":\"object\",\"name\":\"AllIndices\",\"id\":\"p1699\"}}},\"glyph\":{\"type\":\"object\",\"name\":\"VArea\",\"id\":\"p1694\",\"attributes\":{\"x\":{\"type\":\"field\",\"field\":\"x\"},\"y1\":{\"type\":\"field\",\"field\":\"y1\"},\"y2\":{\"type\":\"field\",\"field\":\"y2\"},\"fill_color\":\"lightblue\",\"fill_alpha\":0.3,\"hatch_color\":{\"type\":\"value\",\"value\":\"lightblue\"},\"hatch_alpha\":{\"type\":\"value\",\"value\":0.3}}},\"nonselection_glyph\":{\"type\":\"object\",\"name\":\"VArea\",\"id\":\"p1695\",\"attributes\":{\"x\":{\"type\":\"field\",\"field\":\"x\"},\"y1\":{\"type\":\"field\",\"field\":\"y1\"},\"y2\":{\"type\":\"field\",\"field\":\"y2\"},\"fill_color\":\"lightblue\",\"fill_alpha\":0.1,\"hatch_color\":{\"type\":\"value\",\"value\":\"lightblue\"},\"hatch_alpha\":{\"type\":\"value\",\"value\":0.1}}},\"muted_glyph\":{\"type\":\"object\",\"name\":\"VArea\",\"id\":\"p1696\",\"attributes\":{\"x\":{\"type\":\"field\",\"field\":\"x\"},\"y1\":{\"type\":\"field\",\"field\":\"y1\"},\"y2\":{\"type\":\"field\",\"field\":\"y2\"},\"fill_color\":\"lightblue\",\"fill_alpha\":0.2,\"hatch_color\":{\"type\":\"value\",\"value\":\"lightblue\"},\"hatch_alpha\":{\"type\":\"value\",\"value\":0.2}}}}},{\"type\":\"object\",\"name\":\"GlyphRenderer\",\"id\":\"p1708\",\"attributes\":{\"data_source\":{\"type\":\"object\",\"name\":\"ColumnDataSource\",\"id\":\"p1702\",\"attributes\":{\"selected\":{\"type\":\"object\",\"name\":\"Selection\",\"id\":\"p1703\",\"attributes\":{\"indices\":[],\"line_indices\":[]}},\"selection_policy\":{\"type\":\"object\",\"name\":\"UnionRenderers\",\"id\":\"p1704\"},\"data\":{\"type\":\"map\",\"entries\":[[\"x\",{\"type\":\"ndarray\",\"array\":{\"type\":\"bytes\",\"data\":\"H4sIAAEAAAAC/w3DBZQIBgAA0BMnDnc4dadO14njnD7uTjenTnPyjsM2s5nedMdCd2wsxKYt2Nh0W4rNCsMYhrH/3v/pAgIC0pvBjAaaycxmMatBZjO7OQw2xJzmMreh5jGv+cxvAcMMt6CFLGwRixphMYtbwpKWsrRlLGs5y1vBSCtaycpWMcqqVjPa6sZYw5rWsrZ1rGs9Y61vA+OMN8GGNrKxTWxqM5vbwpa2srVtbGs725toBzvayc52McmudrO7PexpL3vbx74m28/+DnCggxxsiqkOcahpDnO4I3zBF33Jkb7sKF/xVUf7mmMc6zjHO8GJTvJ133CyU5zqNKc7w5nOcrZznOs857vAhS7yTd/ybd9xsUtc6jKXu8KVrnK1a1zrOte7wY1u8l3fc7NbfN8P/NCP3Oo2t7vDj/3Ene5yt3vc6z73e8BP/czP/cKDHvJLv/KwR/zabzzqMY97wpOe8rRnPOs5z3vBi17yW7/ze3/wR3/ysle86jV/9hev+6u/+bt/+Kc3vOkt//K2d7zr397zvv/4wIc+8l8f+8Sn/ucznxuQDtObwYwGmsnMZjGrQWYzuzkMNsSc5jK3oeYxr/nMbwHDDLeghSxsEYsaYTGLW8KSlrK0ZSxrOctbwUgrWsnKVjHKqlYz2urGWMOa1rK2daxrPWOtbwPjjDfBhjaysU1sajOb28KWtrK1bWxrO9ubaAc72snOdjHJrnazuz3saS9728e+JtvP/g5woIMcbIqpDnGoaf4PqKjfibgFAAA=\"},\"shape\":[366],\"dtype\":\"int32\",\"order\":\"little\"}],[\"y1\",{\"type\":\"ndarray\",\"array\":{\"type\":\"bytes\",\"data\":\"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\"},\"shape\":[366],\"dtype\":\"float64\",\"order\":\"little\"}],[\"y2\",{\"type\":\"ndarray\",\"array\":{\"type\":\"bytes\",\"data\":\"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\"},\"shape\":[366],\"dtype\":\"float64\",\"order\":\"little\"}]]}}},\"view\":{\"type\":\"object\",\"name\":\"CDSView\",\"id\":\"p1709\",\"attributes\":{\"filter\":{\"type\":\"object\",\"name\":\"AllIndices\",\"id\":\"p1710\"}}},\"glyph\":{\"type\":\"object\",\"name\":\"VArea\",\"id\":\"p1705\",\"attributes\":{\"x\":{\"type\":\"field\",\"field\":\"x\"},\"y1\":{\"type\":\"field\",\"field\":\"y1\"},\"y2\":{\"type\":\"field\",\"field\":\"y2\"},\"fill_color\":\"blue\",\"fill_alpha\":0.5,\"hatch_color\":{\"type\":\"value\",\"value\":\"blue\"},\"hatch_alpha\":{\"type\":\"value\",\"value\":0.5}}},\"nonselection_glyph\":{\"type\":\"object\",\"name\":\"VArea\",\"id\":\"p1706\",\"attributes\":{\"x\":{\"type\":\"field\",\"field\":\"x\"},\"y1\":{\"type\":\"field\",\"field\":\"y1\"},\"y2\":{\"type\":\"field\",\"field\":\"y2\"},\"fill_color\":\"blue\",\"fill_alpha\":0.1,\"hatch_color\":{\"type\":\"value\",\"value\":\"blue\"},\"hatch_alpha\":{\"type\":\"value\",\"value\":0.1}}},\"muted_glyph\":{\"type\":\"object\",\"name\":\"VArea\",\"id\":\"p1707\",\"attributes\":{\"x\":{\"type\":\"field\",\"field\":\"x\"},\"y1\":{\"type\":\"field\",\"field\":\"y1\"},\"y2\":{\"type\":\"field\",\"field\":\"y2\"},\"fill_color\":\"blue\",\"fill_alpha\":0.2,\"hatch_color\":{\"type\":\"value\",\"value\":\"blue\"},\"hatch_alpha\":{\"type\":\"value\",\"value\":0.2}}}}},{\"type\":\"object\",\"name\":\"GlyphRenderer\",\"id\":\"p1718\",\"attributes\":{\"data_source\":{\"type\":\"object\",\"name\":\"ColumnDataSource\",\"id\":\"p1712\",\"attributes\":{\"selected\":{\"type\":\"object\",\"name\":\"Selection\",\"id\":\"p1713\",\"attributes\":{\"indices\":[],\"line_indices\":[]}},\"selection_policy\":{\"type\":\"object\",\"name\":\"UnionRenderers\",\"id\":\"p1714\"},\"data\":{\"type\":\"map\",\"entries\":[[\"x\",{\"type\":\"ndarray\",\"array\":{\"type\":\"bytes\",\"data\":\"H4sIAAEAAAAC/yXT55sPBAAA4N85h7uzx3HnOOOczRlnnL2ddXf25mx3F0mpENl771FGGQ0aNCijQdGgzJYRKhGKlBHe5+nD+ye8gUAgEEQWgslKCNnITg5CCSOcnOQiN3nISz7yU4CCFCKCwhQhkiiKEk0xihNDCUpSitLEUoY4ylKO8lSgIpWoTBWqEk81qlODmiRQi9rUoS6J1KM+DWhIIxrThKY0ozktaEkrWpNEG9rSjvZ0IJkUUulIJzrTha50ozs96EkvetOHvvSjP2kMYCCDGMwQhjKM4aSTQSaPMYKRPM4onmA0T/IUY3iaZ3iWsYxjPM8xgYk8zyQmM4WpTGM6M5jJLGYzh7nMYz4LWMgiFrOEpSxjOStYySpWs4a1vMCLrGM9G9jIS7zMJjazha28wqu8xutsYztv8CZv8TY72Mk7vMt7vM8udvMBH7KHvexjPx/xMZ/wKQc4yGd8ziEO8wVf8hVfc4SjfMO3HOM4JzjJKU7zHd/zAz/yE2c4yznO8zMXuMglfuFXfuMyv3OFq/zBNa5zgz/5i5vc4m9u8w//coe73OM+//GAh4H/8weRhWCyEkI2spODUMIIJye5yE0e8pKP/BSgIIWIoDBFiCSKokRTjOLEUIKSlKI0sZQhjrKUozwVqEglKlOFqsRTjerUoCYJ1KI2dahLIvWoTwMa0ojGNKEpzWhOC1rSitYk0Ya2tKM9HUgmhVQ60onOdKEr3ehOD3rSi970oS/96E8aAxjIIAYzhKEMYzjpZJDJI/U1W7m0BQAA\"},\"shape\":[365],\"dtype\":\"int32\",\"order\":\"little\"}],[\"y1\",{\"type\":\"ndarray\",\"array\":{\"type\":\"bytes\",\"data\":\"H4sIAAEAAAAC/31WQU4jQQycuXDgMoqEogVFgkSQLCFaEkJAu5fpB/CO/RP7jTwg8wD2FZH2njOXDXGVh3JP6Eup2+62y+12e7n8GPfNn9f9OJ83f98+xrA5LK/ntv76iPURcIb1aaZ/wOWi+X0Y36HXSzafQH7TFIdxDSwK0yuTyd83pn+SKLf5N56TTH9XFzLOGqL5deH7eS72bWgP+qlb3gOP04Zyw20d/eM+6jEujBv8RzzKRs85hfzEkTxM/wr6l+4P7R3ZTz417TBeyqciJvNz4HYif8TTUf2J/nJfPzHO5E19jXcZ5rua5xDpr55PnlViniFewFvwuoPefWJeUA+8fZ16el7P84R8yI/2EafI1+XcT8T7MLsvDynGi3Pkj/NRvy8y5DtB/jkfxbGjnjfUeK3n2T6+P9SBTE/tj3wf9VE3XK7xjzg6co8Ls/PvIbOPOgb9Vg91zNH2rXAf7Zxy47H08+W+Ml4DzG80Lp5vCz/P/Fsd9Yco+vt4Kb+Vo/F7Rh49+5xxkni8xDjcdseXfGPczlcZD7Pz5Njpx7r11+wE/bd2n93HT+j/yvjE9/zl/e/5Ul/yryMees+TkKchz/dIucZxqu/gU34arx9un3OVX/s75LmaR3fZPs23ceZ/93ufejxRxz2Pu+vLwP0jch/rMOuf1qFJeDczjzt5sM6xLmodGrqdWFdZZ1Q+zd5r5Ec/6beuU39bK777/6n/auX6Rec4c376X4wzVL22D6BdrYf5vxX/B+2X+kFvF/7dKvQ5VdJ/mHgV8oB903YT+pGs72L/Q9T/vPT75j1oX9UL/YrbQz/TZ7/RqL9lCve2iX0I+xaez34N8fQ+Vvu5WcBB1tfGuP4Ha3DPlmgLAAA=\"},\"shape\":[365],\"dtype\":\"float64\",\"order\":\"little\"}],[\"y2\",{\"type\":\"ndarray\",\"array\":{\"type\":\"bytes\",\"data\":\"H4sIAAEAAAAC/3VWy20bQQyNLzkIAQQDhhAbBvKBlZ+MyNLqGyvekZBjGkgDqiNtJAWoARXgLSCpIsDegxx9yWrJ91aPkvdCkMMhHx9nZ7he775O8aT+zoqfP3bf3/z3r9136foHlyeQydYvinr7+qnbX7regUxZ/XXd/9L1F4XJNvRk/m+TxTml3fOrPL+x9a3LKo7j9zzXbh8wr8V/zjyOn+sqXyfgV/9rx/He9Z7n6Wu+r9NQx59c4/cYx9Yfcs3XSeAZ0nlO6A/iQwK34mzs4A/5wC/6A36QT3G1wr7YtxbxWR+uQn8m5NH0N4E/6K8YF3XA7ufrkf4OPN846DfsR52+HKrfnt3k1PHPHW/m+oj5gFf7PQw8dsgn/HFuFccn95uRp1gP8lv9I+KyeOPA74xxIS3ere+fMw7w2PqE61bPwvU7x7tgXqmX+D/TH/GAx/I0OIT3aj32BXUJnmof8iie2YEuuEqv4zz39eR6Mr9/jayXN65vg39Vl/BZ4dfz1tSL8wPcpt8RB+KJnfHz43WAxz0+pD9rx50ttQ7o6A942CQ9D3v9if0UvrY54wjeTTrIa/GWVuf3JXmu7c9WFufbiv7Sh3Ll/HxxHKvQvzzgy8knpMSr6tE+JMbT85PIN/4DtaeDvsU+gxfhoYoj53+vfxEP+n6U/+xxPmOdei5utb+b5tzLfVdO6Q89ng/lfxTuv0nYvyD+o+eG+PqMh/9KeZiH+zXjfyf/W4Uj4ol+qAt+Er/KZ34fwzvTpx359T3ohvd1oPfzdhzu3znxgF9IvJ8yh5RD3juoB3n0vZqF+/VdqKd5X7AOqXNafF97Whf6xH53U5wnkDfOf5i74K9+ffZF7W3uw9wE3JgLdF48PdA1b1vf5WbeDfNiq9B568Tn1od7n+vuMf/oOua9C849/wEf25ebaAsAAA==\"},\"shape\":[365],\"dtype\":\"float64\",\"order\":\"little\"}]]}}},\"view\":{\"type\":\"object\",\"name\":\"CDSView\",\"id\":\"p1719\",\"attributes\":{\"filter\":{\"type\":\"object\",\"name\":\"AllIndices\",\"id\":\"p1720\"}}},\"glyph\":{\"type\":\"object\",\"name\":\"VArea\",\"id\":\"p1715\",\"attributes\":{\"x\":{\"type\":\"field\",\"field\":\"x\"},\"y1\":{\"type\":\"field\",\"field\":\"y1\"},\"y2\":{\"type\":\"field\",\"field\":\"y2\"},\"fill_color\":\"darkblue\",\"fill_alpha\":0.5,\"hatch_color\":{\"type\":\"value\",\"value\":\"darkblue\"},\"hatch_alpha\":{\"type\":\"value\",\"value\":0.5}}},\"nonselection_glyph\":{\"type\":\"object\",\"name\":\"VArea\",\"id\":\"p1716\",\"attributes\":{\"x\":{\"type\":\"field\",\"field\":\"x\"},\"y1\":{\"type\":\"field\",\"field\":\"y1\"},\"y2\":{\"type\":\"field\",\"field\":\"y2\"},\"fill_color\":\"darkblue\",\"fill_alpha\":0.1,\"hatch_color\":{\"type\":\"value\",\"value\":\"darkblue\"},\"hatch_alpha\":{\"type\":\"value\",\"value\":0.1}}},\"muted_glyph\":{\"type\":\"object\",\"name\":\"VArea\",\"id\":\"p1717\",\"attributes\":{\"x\":{\"type\":\"field\",\"field\":\"x\"},\"y1\":{\"type\":\"field\",\"field\":\"y1\"},\"y2\":{\"type\":\"field\",\"field\":\"y2\"},\"fill_color\":\"darkblue\",\"fill_alpha\":0.2,\"hatch_color\":{\"type\":\"value\",\"value\":\"darkblue\"},\"hatch_alpha\":{\"type\":\"value\",\"value\":0.2}}}}}],\"toolbar\":{\"type\":\"object\",\"name\":\"Toolbar\",\"id\":\"p1665\",\"attributes\":{\"tools\":[{\"type\":\"object\",\"name\":\"PanTool\",\"id\":\"p1678\"},{\"type\":\"object\",\"name\":\"WheelZoomTool\",\"id\":\"p1679\",\"attributes\":{\"renderers\":\"auto\"}},{\"type\":\"object\",\"name\":\"BoxZoomTool\",\"id\":\"p1680\",\"attributes\":{\"dimensions\":\"both\",\"overlay\":{\"type\":\"object\",\"name\":\"BoxAnnotation\",\"id\":\"p1681\",\"attributes\":{\"syncable\":false,\"line_color\":\"black\",\"line_alpha\":1.0,\"line_width\":2,\"line_dash\":[4,4],\"fill_color\":\"lightgrey\",\"fill_alpha\":0.5,\"level\":\"overlay\",\"visible\":false,\"left\":{\"type\":\"number\",\"value\":\"nan\"},\"right\":{\"type\":\"number\",\"value\":\"nan\"},\"top\":{\"type\":\"number\",\"value\":\"nan\"},\"bottom\":{\"type\":\"number\",\"value\":\"nan\"},\"left_units\":\"canvas\",\"right_units\":\"canvas\",\"top_units\":\"canvas\",\"bottom_units\":\"canvas\",\"handles\":{\"type\":\"object\",\"name\":\"BoxInteractionHandles\",\"id\":\"p1687\",\"attributes\":{\"all\":{\"type\":\"object\",\"name\":\"AreaVisuals\",\"id\":\"p1686\",\"attributes\":{\"fill_color\":\"white\",\"hover_fill_color\":\"lightgray\"}}}}}}}},{\"type\":\"object\",\"name\":\"SaveTool\",\"id\":\"p1688\"},{\"type\":\"object\",\"name\":\"ResetTool\",\"id\":\"p1689\"},{\"type\":\"object\",\"name\":\"HelpTool\",\"id\":\"p1690\"}]}},\"left\":[{\"type\":\"object\",\"name\":\"LinearAxis\",\"id\":\"p1673\",\"attributes\":{\"ticker\":{\"type\":\"object\",\"name\":\"BasicTicker\",\"id\":\"p1674\",\"attributes\":{\"mantissas\":[1,2,5]}},\"formatter\":{\"type\":\"object\",\"name\":\"BasicTickFormatter\",\"id\":\"p1675\"},\"axis_label\":\"Temperature (\\u00b0C)\",\"major_label_policy\":{\"type\":\"object\",\"name\":\"AllLabels\",\"id\":\"p1676\"}}}],\"below\":[{\"type\":\"object\",\"name\":\"LinearAxis\",\"id\":\"p1668\",\"attributes\":{\"ticker\":{\"type\":\"object\",\"name\":\"FixedTicker\",\"id\":\"p1722\",\"attributes\":{\"ticks\":[1,32,60,91,121,152,182,213,244,274,305,335],\"minor_ticks\":[]}},\"formatter\":{\"type\":\"object\",\"name\":\"BasicTickFormatter\",\"id\":\"p1670\"},\"axis_label\":\"Date (MM/YYYY)\",\"major_label_overrides\":{\"type\":\"map\",\"entries\":[[1,\"01/1999\"],[32,\"02/1999\"],[60,\"03/1999\"],[91,\"04/1999\"],[121,\"05/1999\"],[152,\"06/1999\"],[182,\"07/1999\"],[213,\"08/1999\"],[244,\"09/1999\"],[274,\"10/1999\"],[305,\"11/1999\"],[335,\"12/1999\"]]},\"major_label_policy\":{\"type\":\"object\",\"name\":\"AllLabels\",\"id\":\"p1671\"}}}],\"center\":[{\"type\":\"object\",\"name\":\"Grid\",\"id\":\"p1672\",\"attributes\":{\"axis\":{\"id\":\"p1668\"}}},{\"type\":\"object\",\"name\":\"Grid\",\"id\":\"p1677\",\"attributes\":{\"dimension\":1,\"axis\":{\"id\":\"p1673\"}}},{\"type\":\"object\",\"name\":\"Legend\",\"id\":\"p1700\",\"attributes\":{\"items\":[{\"type\":\"object\",\"name\":\"LegendItem\",\"id\":\"p1701\",\"attributes\":{\"label\":{\"type\":\"value\",\"value\":\"Record Range\"},\"renderers\":[{\"id\":\"p1697\"}]}},{\"type\":\"object\",\"name\":\"LegendItem\",\"id\":\"p1711\",\"attributes\":{\"label\":{\"type\":\"value\",\"value\":\"Average Range\"},\"renderers\":[{\"id\":\"p1708\"}]}},{\"type\":\"object\",\"name\":\"LegendItem\",\"id\":\"p1721\",\"attributes\":{\"label\":{\"type\":\"value\",\"value\":\"Actual Range\"},\"renderers\":[{\"id\":\"p1718\"}]}}]}}]}}]}};\n  const render_items = [{\"docid\":\"0fbcf3bd-6629-4d07-a972-c098ccef53d9\",\"roots\":{\"p1656\":\"d40bcd2f-aeef-419f-b395-1060366299ff\"},\"root_ids\":[\"p1656\"]}];\n  void root.Bokeh.embed.embed_items_notebook(docs_json, render_items);\n  }\n  if (root.Bokeh !== undefined) {\n    embed_document(root);\n  } else {\n    let attempts = 0;\n    const timer = setInterval(function(root) {\n      if (root.Bokeh !== undefined) {\n        clearInterval(timer);\n        embed_document(root);\n      } else {\n        attempts++;\n        if (attempts > 100) {\n          clearInterval(timer);\n          console.log(\"Bokeh: ERROR: Unable to run BokehJS code because BokehJS library is missing\");\n        }\n      }\n    }, 10, root)\n  }\n})(window);",
      "application/vnd.bokehjs_exec.v0+json": ""
     },
     "metadata": {
      "application/vnd.bokehjs_exec.v0+json": {
       "id": "p1656"
      }
     },
     "output_type": "display_data"
    }
   ],
   "source": [
    "from bokeh.plotting import figure, show\n",
    "from bokeh.io import output_notebook\n",
    "from bokeh.models import FixedTicker\n",
    "\n",
    "def get_ghcn_station_stats_by_year(ghcn_station_id, year):\n",
    "    df = pd.read_csv(\n",
    "        f\"s3://noaa-ghcn-pds/csv/by_station/{ghcn_station_id}.csv\",\n",
    "        storage_options={\"anon\": True},  # passed to `s3fs.S3FileSystem`\n",
    "            dtype={'Q_FLAG': 'object', 'M_FLAG': 'object'},\n",
    "            parse_dates=['DATE']\n",
    "    ).set_index('DATE')\n",
    "    \n",
    "    # Filter by year\n",
    "    df_year = df[df.index.year == year]\n",
    "    \n",
    "    # Split into TMAX and TMIN\n",
    "    df_tmax = df_year[df_year['ELEMENT'] == 'TMAX']\n",
    "    df_tmin = df_year[df_year['ELEMENT'] == 'TMIN']\n",
    "    \n",
    "    # Group by day of year and get actual values\n",
    "    tmax_by_day = df_tmax.groupby(df_tmax.index.dayofyear)['DATA_VALUE'].max()\n",
    "    tmin_by_day = df_tmin.groupby(df_tmin.index.dayofyear)['DATA_VALUE'].min()\n",
    "    \n",
    "    # Return max and min temperatures for each day\n",
    "    merged = pd.DataFrame({\n",
    "        'day_of_year': tmax_by_day.index,\n",
    "        'max_temp': tmax_by_day.values,\n",
    "        'min_temp': tmin_by_day.values\n",
    "    })\n",
    "\n",
    "    return convert_temperatures_to_celsius(merged, ['max_temp', 'min_temp'])\n",
    "\n",
    "# Get data for 1999\n",
    "df_1999 = get_ghcn_station_stats_by_year(ghcn_station_id, 1999)\n",
    "\n",
    "\n",
    "output_notebook()\n",
    "\n",
    "p = figure(\n",
    "    title=\"Daily Temperature for Bloomington, IN (1991-2020)\", \n",
    "    width=800, \n",
    "    height=500,\n",
    "    x_axis_label='Date (MM/YYYY)',\n",
    "    y_axis_label='Temperature (°C)')\n",
    "\n",
    "# Record temperatures\n",
    "p.varea(\n",
    "    x=df_bloomington.index,\n",
    "    y1=df_bloomington['record_min_temp'],\n",
    "    y2=df_bloomington['record_max_temp'],\n",
    "    alpha=0.3,\n",
    "    color='lightblue',\n",
    "    legend_label='Record Range'\n",
    ")\n",
    "\n",
    "# Average temperatures\n",
    "p.varea(\n",
    "    x=df_bloomington.index,\n",
    "    y1=df_bloomington['average_min_temp'],\n",
    "    y2=df_bloomington['average_max_temp'],\n",
    "    alpha=0.5,\n",
    "    color='blue',\n",
    "    legend_label='Average Range'\n",
    ")\n",
    "\n",
    "# Actual temperatures for 1999\n",
    "p.varea(\n",
    "    x=df_1999.index,\n",
    "    y1=df_1999['min_temp'],\n",
    "    y2=df_1999['max_temp'],\n",
    "    alpha=0.5,\n",
    "    color='darkblue',\n",
    "    legend_label='Actual Range'\n",
    ")\n",
    "\n",
    "# Add custom x-axis ticks\n",
    "month_positions = [1, 32, 60, 91, 121, 152, 182, 213, 244, 274, 305, 335]\n",
    "month_labels = ['01/1999', '02/1999', '03/1999', '04/1999', '05/1999', '06/1999',\n",
    "                '07/1999', '08/1999', '09/1999', '10/1999', '11/1999', '12/1999']\n",
    "\n",
    "p.xaxis.ticker = FixedTicker(ticks=month_positions)\n",
    "p.xaxis.major_label_overrides = dict(zip(month_positions, month_labels))\n",
    "\n",
    "show(p)\n"
   ]
  }
 ],
 "metadata": {
  "kernelspec": {
   "display_name": "xarray-climate",
   "language": "python",
   "name": "python3"
  },
  "language_info": {
   "codemirror_mode": {
    "name": "ipython",
    "version": 3
   },
   "file_extension": ".py",
   "mimetype": "text/x-python",
   "name": "python",
   "nbconvert_exporter": "python",
   "pygments_lexer": "ipython3",
   "version": "3.13.7"
  }
 },
 "nbformat": 4,
 "nbformat_minor": 5
}
