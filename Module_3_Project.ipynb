{
 "cells": [
  {
   "cell_type": "markdown",
   "id": "c28a2f17",
   "metadata": {},
   "source": [
    "Here I wrote for this program to grab my hometown station, which I was a little bit suprised actually had a GHCH with data going back that far.\n",
    "Also finding the GHCH ID for that station was way more difficult than I expected."
   ]
  },
  {
   "cell_type": "code",
   "execution_count": 8,
   "id": "5bd2e14d",
   "metadata": {},
   "outputs": [],
   "source": [
    "import pandas as pd, numpy as np\n",
    "from pathlib import Path\n",
    "import fsspec\n",
    "\n",
    "S3_STATIONS_TXT   = \"s3://noaa-ghcn-pds/ghcnd-stations.txt\"\n",
    "S3_INVENTORY_TXT  = \"s3://noaa-ghcn-pds/ghcnd-inventory.txt\"\n",
    "S3_BY_STATION     = \"s3://noaa-ghcn-pds/csv/by_station/{id}.csv\"\n",
    "STOR = {\"anon\": True}\n",
    "\n",
    "OUTDIR = Path('../data'); OUTDIR.mkdir(parents=True, exist_ok=True)\n",
    "OUT_PARQUET = OUTDIR / 'ghcn_K3T5_daily.parquet'\n",
    "OUT_CSV = OUTDIR / 'ghcn_K3T5_daily.csv'\n"
   ]
  },
  {
   "cell_type": "code",
   "execution_count": 9,
   "id": "e6771212",
   "metadata": {},
   "outputs": [],
   "source": [
    "def load_station_daily(station_id: str) -> pd.DataFrame:\n",
    "    url = S3_BY_STATION.format(id=station_id)\n",
    "    df = pd.read_csv(\n",
    "        url,\n",
    "        storage_options=STOR,\n",
    "        header=None,\n",
    "        names=[\"ID\",\"DATE\",\"ELEMENT\",\"DATA_VALUE\",\"MFLAG\",\"QFLAG\",\"SFLAG\",\"OBS_TIME\"],\n",
    "        dtype={\"ID\": str, \"ELEMENT\": str},\n",
    "        low_memory=False\n",
    "    )\n",
    "    # Ensure numeric\n",
    "    df[\"DATA_VALUE\"] = pd.to_numeric(df[\"DATA_VALUE\"], errors=\"coerce\")\n",
    "    df[\"DATA_VALUE\"] = df[\"DATA_VALUE\"].replace(-9999, np.nan)\n",
    "\n",
    "    wide = df.pivot_table(index=[\"ID\",\"DATE\"], columns=\"ELEMENT\", values=\"DATA_VALUE\", aggfunc=\"first\")\n",
    "\n",
    "    # Convert to °C safely\n",
    "    for c in (\"TMAX\",\"TMIN\",\"TAVG\"):\n",
    "        if c in wide:\n",
    "            wide[c] = pd.to_numeric(wide[c], errors=\"coerce\") / 10.0\n",
    "    if \"PRCP\" in wide:\n",
    "        wide[\"PRCP\"] = pd.to_numeric(wide[\"PRCP\"], errors=\"coerce\") / 10.0\n",
    "\n",
    "    wide = wide.reset_index()\n",
    "    wide[\"DATE\"] = pd.to_datetime(wide[\"DATE\"], format=\"%Y%m%d\")\n",
    "    wide[\"year\"] = wide[\"DATE\"].dt.year\n",
    "    wide[\"month\"] = wide[\"DATE\"].dt.month\n",
    "    wide[\"day\"] = wide[\"DATE\"].dt.day\n",
    "    return wide"
   ]
  },
  {
   "cell_type": "code",
   "execution_count": 10,
   "id": "09888089",
   "metadata": {},
   "outputs": [],
   "source": [
    "def station_climatology(station_id: str) -> pd.DataFrame:\n",
    "    df = load_station_daily(station_id)\n",
    "\n",
    "    # All-time records\n",
    "    records = df.groupby([\"month\",\"day\"]).agg(\n",
    "        record_min_temp=(\"TMIN\",\"min\"),\n",
    "        record_max_temp=(\"TMAX\",\"max\")\n",
    "    )\n",
    "\n",
    "    # Normals (1991–2020)\n",
    "    normals = df[(df[\"year\"]>=1991) & (df[\"year\"]<=2020)]\n",
    "    normals = normals.groupby([\"month\",\"day\"]).agg(\n",
    "        average_min_temp=(\"TMIN\",\"mean\"),\n",
    "        average_max_temp=(\"TMAX\",\"mean\")\n",
    "    )\n",
    "\n",
    "    out = records.join(normals, how=\"inner\")\n",
    "    out = out[[\"record_min_temp\",\"average_min_temp\",\"average_max_temp\",\"record_max_temp\"]]\n",
    "    out.index = [f\"{m:02d}-{d:02d}\" for m,d in out.index]\n",
    "    return out\n",
    "\n"
   ]
  },
  {
   "cell_type": "code",
   "execution_count": 11,
   "id": "3bdf27bd",
   "metadata": {},
   "outputs": [
    {
     "name": "stdout",
     "output_type": "stream",
     "text": [
      "Wrote daily data: C:\\Users\\tomy3\\data\\ghcn_K3T5_daily.parquet\n",
      "       record_min_temp  average_min_temp  average_max_temp  record_max_temp\n",
      "01-01             -5.0          6.386957         18.769565             26.7\n",
      "01-02            -10.0          5.365217         16.504348             28.9\n",
      "01-03             -7.2          4.768182         16.340909             26.7\n",
      "01-04             -5.6          4.869565         17.421739             29.4\n",
      "01-05             -7.2          5.043478         16.678261             25.0\n",
      "01-06             -5.6          4.634783         16.695652             26.7\n",
      "01-07             -8.3          4.800000         15.065217             27.2\n",
      "01-08             -8.3          4.400000         16.639130             25.6\n",
      "01-09             -9.4          4.800000         18.991304             26.7\n",
      "01-10             -9.4          5.652174         18.469565             27.8\n",
      "Wrote climatology: C:\\Users\\tomy3\\data\\USC00414903_climatology.csv\n"
     ]
    }
   ],
   "source": [
    "station_id = \"USC00414903\"\n",
    "daily = load_station_daily(station_id)\n",
    "daily.to_parquet(OUT_PARQUET, index=False)\n",
    "daily.to_csv(OUT_CSV, index=False)\n",
    "print(\"Wrote daily data:\", OUT_PARQUET.resolve())\n",
    "\n",
    "climo = station_climatology(station_id)\n",
    "print(climo.head(10))\n",
    "\n",
    "# Optionally save climatology\n",
    "climo_out = OUTDIR / f\"{station_id}_climatology.csv\"\n",
    "climo.to_csv(climo_out)\n",
    "print(\"Wrote climatology:\", climo_out.resolve())\n"
   ]
  },
  {
   "cell_type": "code",
   "execution_count": 12,
   "id": "af3a61fa",
   "metadata": {},
   "outputs": [
    {
     "data": {
      "application/vnd.plotly.v1+json": {
       "config": {
        "plotlyServerURL": "https://plot.ly"
       },
       "data": [
        {
         "line": {
          "color": "lightgray"
         },
         "mode": "lines",
         "name": "Record Max",
         "type": "scatter",
         "x": {
          "bdata": "AQACAAMABAAFAAYABwAIAAkACgALAAwADQAOAA8AEAARABIAEwAUABUAFgAXABgAGQAaABsAHAAdAB4AHwAgACEAIgAjACQAJQAmACcAKAApACoAKwAsAC0ALgAvADAAMQAyADMANAA1ADYANwA4ADkAOgA7ADwAPQA+AD8AQABBAEIAQwBEAEUARgBHAEgASQBKAEsATABNAE4ATwBQAFEAUgBTAFQAVQBWAFcAWABZAFoAWwBcAF0AXgBfAGAAYQBiAGMAZABlAGYAZwBoAGkAagBrAGwAbQBuAG8AcABxAHIAcwB0AHUAdgB3AHgAeQB6AHsAfAB9AH4AfwCAAIEAggCDAIQAhQCGAIcAiACJAIoAiwCMAI0AjgCPAJAAkQCSAJMAlACVAJYAlwCYAJkAmgCbAJwAnQCeAJ8AoAChAKIAowCkAKUApgCnAKgAqQCqAKsArACtAK4ArwCwALEAsgCzALQAtQC2ALcAuAC5ALoAuwC8AL0AvgC/AMAAwQDCAMMAxADFAMYAxwDIAMkAygDLAMwAzQDOAM8A0ADRANIA0wDUANUA1gDXANgA2QDaANsA3ADdAN4A3wDgAOEA4gDjAOQA5QDmAOcA6ADpAOoA6wDsAO0A7gDvAPAA8QDyAPMA9AD1APYA9wD4APkA+gD7APwA/QD+AP8AAAEBAQIBAwEEAQUBBgEHAQgBCQEKAQsBDAENAQ4BDwEQAREBEgETARQBFQEWARcBGAEZARoBGwEcAR0BHgEfASABIQEiASMBJAElASYBJwEoASkBKgErASwBLQEuAS8BMAExATIBMwE0ATUBNgE3ATgBOQE6ATsBPAE9AT4BPwFAAUEBQgFDAUQBRQFGAUcBSAFJAUoBSwFMAU0BTgFPAVABUQFSAVMBVAFVAVYBVwFYAVkBWgFbAVwBXQFeAV8BYAFhAWIBYwFkAWUBZgFnAWgBaQFqAWsBbAFtAW4B",
          "dtype": "i2"
         },
         "y": {
          "bdata": "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",
          "dtype": "f8"
         }
        },
        {
         "fill": "tonexty",
         "line": {
          "color": "lightgray"
         },
         "mode": "lines",
         "name": "Record Min",
         "type": "scatter",
         "x": {
          "bdata": "AQACAAMABAAFAAYABwAIAAkACgALAAwADQAOAA8AEAARABIAEwAUABUAFgAXABgAGQAaABsAHAAdAB4AHwAgACEAIgAjACQAJQAmACcAKAApACoAKwAsAC0ALgAvADAAMQAyADMANAA1ADYANwA4ADkAOgA7ADwAPQA+AD8AQABBAEIAQwBEAEUARgBHAEgASQBKAEsATABNAE4ATwBQAFEAUgBTAFQAVQBWAFcAWABZAFoAWwBcAF0AXgBfAGAAYQBiAGMAZABlAGYAZwBoAGkAagBrAGwAbQBuAG8AcABxAHIAcwB0AHUAdgB3AHgAeQB6AHsAfAB9AH4AfwCAAIEAggCDAIQAhQCGAIcAiACJAIoAiwCMAI0AjgCPAJAAkQCSAJMAlACVAJYAlwCYAJkAmgCbAJwAnQCeAJ8AoAChAKIAowCkAKUApgCnAKgAqQCqAKsArACtAK4ArwCwALEAsgCzALQAtQC2ALcAuAC5ALoAuwC8AL0AvgC/AMAAwQDCAMMAxADFAMYAxwDIAMkAygDLAMwAzQDOAM8A0ADRANIA0wDUANUA1gDXANgA2QDaANsA3ADdAN4A3wDgAOEA4gDjAOQA5QDmAOcA6ADpAOoA6wDsAO0A7gDvAPAA8QDyAPMA9AD1APYA9wD4APkA+gD7APwA/QD+AP8AAAEBAQIBAwEEAQUBBgEHAQgBCQEKAQsBDAENAQ4BDwEQAREBEgETARQBFQEWARcBGAEZARoBGwEcAR0BHgEfASABIQEiASMBJAElASYBJwEoASkBKgErASwBLQEuAS8BMAExATIBMwE0ATUBNgE3ATgBOQE6ATsBPAE9AT4BPwFAAUEBQgFDAUQBRQFGAUcBSAFJAUoBSwFMAU0BTgFPAVABUQFSAVMBVAFVAVYBVwFYAVkBWgFbAVwBXQFeAV8BYAFhAWIBYwFkAWUBZgFnAWgBaQFqAWsBbAFtAW4B",
          "dtype": "i2"
         },
         "y": {
          "bdata": "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",
          "dtype": "f8"
         }
        },
        {
         "line": {
          "color": "red"
         },
         "name": "Avg Max (1991–2020)",
         "type": "scatter",
         "x": {
          "bdata": "AQACAAMABAAFAAYABwAIAAkACgALAAwADQAOAA8AEAARABIAEwAUABUAFgAXABgAGQAaABsAHAAdAB4AHwAgACEAIgAjACQAJQAmACcAKAApACoAKwAsAC0ALgAvADAAMQAyADMANAA1ADYANwA4ADkAOgA7ADwAPQA+AD8AQABBAEIAQwBEAEUARgBHAEgASQBKAEsATABNAE4ATwBQAFEAUgBTAFQAVQBWAFcAWABZAFoAWwBcAF0AXgBfAGAAYQBiAGMAZABlAGYAZwBoAGkAagBrAGwAbQBuAG8AcABxAHIAcwB0AHUAdgB3AHgAeQB6AHsAfAB9AH4AfwCAAIEAggCDAIQAhQCGAIcAiACJAIoAiwCMAI0AjgCPAJAAkQCSAJMAlACVAJYAlwCYAJkAmgCbAJwAnQCeAJ8AoAChAKIAowCkAKUApgCnAKgAqQCqAKsArACtAK4ArwCwALEAsgCzALQAtQC2ALcAuAC5ALoAuwC8AL0AvgC/AMAAwQDCAMMAxADFAMYAxwDIAMkAygDLAMwAzQDOAM8A0ADRANIA0wDUANUA1gDXANgA2QDaANsA3ADdAN4A3wDgAOEA4gDjAOQA5QDmAOcA6ADpAOoA6wDsAO0A7gDvAPAA8QDyAPMA9AD1APYA9wD4APkA+gD7APwA/QD+AP8AAAEBAQIBAwEEAQUBBgEHAQgBCQEKAQsBDAENAQ4BDwEQAREBEgETARQBFQEWARcBGAEZARoBGwEcAR0BHgEfASABIQEiASMBJAElASYBJwEoASkBKgErASwBLQEuAS8BMAExATIBMwE0ATUBNgE3ATgBOQE6ATsBPAE9AT4BPwFAAUEBQgFDAUQBRQFGAUcBSAFJAUoBSwFMAU0BTgFPAVABUQFSAVMBVAFVAVYBVwFYAVkBWgFbAVwBXQFeAV8BYAFhAWIBYwFkAWUBZgFnAWgBaQFqAWsBbAFtAW4B",
          "dtype": "i2"
         },
         "y": {
          "bdata": "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",
          "dtype": "f8"
         }
        },
        {
         "line": {
          "color": "blue"
         },
         "name": "Avg Min (1991–2020)",
         "type": "scatter",
         "x": {
          "bdata": "AQACAAMABAAFAAYABwAIAAkACgALAAwADQAOAA8AEAARABIAEwAUABUAFgAXABgAGQAaABsAHAAdAB4AHwAgACEAIgAjACQAJQAmACcAKAApACoAKwAsAC0ALgAvADAAMQAyADMANAA1ADYANwA4ADkAOgA7ADwAPQA+AD8AQABBAEIAQwBEAEUARgBHAEgASQBKAEsATABNAE4ATwBQAFEAUgBTAFQAVQBWAFcAWABZAFoAWwBcAF0AXgBfAGAAYQBiAGMAZABlAGYAZwBoAGkAagBrAGwAbQBuAG8AcABxAHIAcwB0AHUAdgB3AHgAeQB6AHsAfAB9AH4AfwCAAIEAggCDAIQAhQCGAIcAiACJAIoAiwCMAI0AjgCPAJAAkQCSAJMAlACVAJYAlwCYAJkAmgCbAJwAnQCeAJ8AoAChAKIAowCkAKUApgCnAKgAqQCqAKsArACtAK4ArwCwALEAsgCzALQAtQC2ALcAuAC5ALoAuwC8AL0AvgC/AMAAwQDCAMMAxADFAMYAxwDIAMkAygDLAMwAzQDOAM8A0ADRANIA0wDUANUA1gDXANgA2QDaANsA3ADdAN4A3wDgAOEA4gDjAOQA5QDmAOcA6ADpAOoA6wDsAO0A7gDvAPAA8QDyAPMA9AD1APYA9wD4APkA+gD7APwA/QD+AP8AAAEBAQIBAwEEAQUBBgEHAQgBCQEKAQsBDAENAQ4BDwEQAREBEgETARQBFQEWARcBGAEZARoBGwEcAR0BHgEfASABIQEiASMBJAElASYBJwEoASkBKgErASwBLQEuAS8BMAExATIBMwE0ATUBNgE3ATgBOQE6ATsBPAE9AT4BPwFAAUEBQgFDAUQBRQFGAUcBSAFJAUoBSwFMAU0BTgFPAVABUQFSAVMBVAFVAVYBVwFYAVkBWgFbAVwBXQFeAV8BYAFhAWIBYwFkAWUBZgFnAWgBaQFqAWsBbAFtAW4B",
          "dtype": "i2"
         },
         "y": {
          "bdata": "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",
          "dtype": "f8"
         }
        },
        {
         "marker": {
          "color": "red",
          "size": 12,
          "symbol": "triangle-up"
         },
         "mode": "markers",
         "name": "Today's High",
         "type": "scatter",
         "x": [
          282
         ],
         "y": [
          35
         ]
        },
        {
         "marker": {
          "color": "blue",
          "size": 12,
          "symbol": "triangle-down"
         },
         "mode": "markers",
         "name": "Today's Low",
         "type": "scatter",
         "x": [
          282
         ],
         "y": [
          23.333333333333332
         ]
        },
        {
         "marker": {
          "color": "black",
          "size": 12,
          "symbol": "circle"
         },
         "mode": "markers",
         "name": "Current Temp",
         "type": "scatter",
         "x": [
          282
         ],
         "y": [
          27.77777777777778
         ]
        }
       ],
       "layout": {
        "hovermode": "x unified",
        "template": {
         "data": {
          "bar": [
           {
            "error_x": {
             "color": "#2a3f5f"
            },
            "error_y": {
             "color": "#2a3f5f"
            },
            "marker": {
             "line": {
              "color": "white",
              "width": 0.5
             },
             "pattern": {
              "fillmode": "overlay",
              "size": 10,
              "solidity": 0.2
             }
            },
            "type": "bar"
           }
          ],
          "barpolar": [
           {
            "marker": {
             "line": {
              "color": "white",
              "width": 0.5
             },
             "pattern": {
              "fillmode": "overlay",
              "size": 10,
              "solidity": 0.2
             }
            },
            "type": "barpolar"
           }
          ],
          "carpet": [
           {
            "aaxis": {
             "endlinecolor": "#2a3f5f",
             "gridcolor": "#C8D4E3",
             "linecolor": "#C8D4E3",
             "minorgridcolor": "#C8D4E3",
             "startlinecolor": "#2a3f5f"
            },
            "baxis": {
             "endlinecolor": "#2a3f5f",
             "gridcolor": "#C8D4E3",
             "linecolor": "#C8D4E3",
             "minorgridcolor": "#C8D4E3",
             "startlinecolor": "#2a3f5f"
            },
            "type": "carpet"
           }
          ],
          "choropleth": [
           {
            "colorbar": {
             "outlinewidth": 0,
             "ticks": ""
            },
            "type": "choropleth"
           }
          ],
          "contour": [
           {
            "colorbar": {
             "outlinewidth": 0,
             "ticks": ""
            },
            "colorscale": [
             [
              0,
              "#0d0887"
             ],
             [
              0.1111111111111111,
              "#46039f"
             ],
             [
              0.2222222222222222,
              "#7201a8"
             ],
             [
              0.3333333333333333,
              "#9c179e"
             ],
             [
              0.4444444444444444,
              "#bd3786"
             ],
             [
              0.5555555555555556,
              "#d8576b"
             ],
             [
              0.6666666666666666,
              "#ed7953"
             ],
             [
              0.7777777777777778,
              "#fb9f3a"
             ],
             [
              0.8888888888888888,
              "#fdca26"
             ],
             [
              1,
              "#f0f921"
             ]
            ],
            "type": "contour"
           }
          ],
          "contourcarpet": [
           {
            "colorbar": {
             "outlinewidth": 0,
             "ticks": ""
            },
            "type": "contourcarpet"
           }
          ],
          "heatmap": [
           {
            "colorbar": {
             "outlinewidth": 0,
             "ticks": ""
            },
            "colorscale": [
             [
              0,
              "#0d0887"
             ],
             [
              0.1111111111111111,
              "#46039f"
             ],
             [
              0.2222222222222222,
              "#7201a8"
             ],
             [
              0.3333333333333333,
              "#9c179e"
             ],
             [
              0.4444444444444444,
              "#bd3786"
             ],
             [
              0.5555555555555556,
              "#d8576b"
             ],
             [
              0.6666666666666666,
              "#ed7953"
             ],
             [
              0.7777777777777778,
              "#fb9f3a"
             ],
             [
              0.8888888888888888,
              "#fdca26"
             ],
             [
              1,
              "#f0f921"
             ]
            ],
            "type": "heatmap"
           }
          ],
          "histogram": [
           {
            "marker": {
             "pattern": {
              "fillmode": "overlay",
              "size": 10,
              "solidity": 0.2
             }
            },
            "type": "histogram"
           }
          ],
          "histogram2d": [
           {
            "colorbar": {
             "outlinewidth": 0,
             "ticks": ""
            },
            "colorscale": [
             [
              0,
              "#0d0887"
             ],
             [
              0.1111111111111111,
              "#46039f"
             ],
             [
              0.2222222222222222,
              "#7201a8"
             ],
             [
              0.3333333333333333,
              "#9c179e"
             ],
             [
              0.4444444444444444,
              "#bd3786"
             ],
             [
              0.5555555555555556,
              "#d8576b"
             ],
             [
              0.6666666666666666,
              "#ed7953"
             ],
             [
              0.7777777777777778,
              "#fb9f3a"
             ],
             [
              0.8888888888888888,
              "#fdca26"
             ],
             [
              1,
              "#f0f921"
             ]
            ],
            "type": "histogram2d"
           }
          ],
          "histogram2dcontour": [
           {
            "colorbar": {
             "outlinewidth": 0,
             "ticks": ""
            },
            "colorscale": [
             [
              0,
              "#0d0887"
             ],
             [
              0.1111111111111111,
              "#46039f"
             ],
             [
              0.2222222222222222,
              "#7201a8"
             ],
             [
              0.3333333333333333,
              "#9c179e"
             ],
             [
              0.4444444444444444,
              "#bd3786"
             ],
             [
              0.5555555555555556,
              "#d8576b"
             ],
             [
              0.6666666666666666,
              "#ed7953"
             ],
             [
              0.7777777777777778,
              "#fb9f3a"
             ],
             [
              0.8888888888888888,
              "#fdca26"
             ],
             [
              1,
              "#f0f921"
             ]
            ],
            "type": "histogram2dcontour"
           }
          ],
          "mesh3d": [
           {
            "colorbar": {
             "outlinewidth": 0,
             "ticks": ""
            },
            "type": "mesh3d"
           }
          ],
          "parcoords": [
           {
            "line": {
             "colorbar": {
              "outlinewidth": 0,
              "ticks": ""
             }
            },
            "type": "parcoords"
           }
          ],
          "pie": [
           {
            "automargin": true,
            "type": "pie"
           }
          ],
          "scatter": [
           {
            "fillpattern": {
             "fillmode": "overlay",
             "size": 10,
             "solidity": 0.2
            },
            "type": "scatter"
           }
          ],
          "scatter3d": [
           {
            "line": {
             "colorbar": {
              "outlinewidth": 0,
              "ticks": ""
             }
            },
            "marker": {
             "colorbar": {
              "outlinewidth": 0,
              "ticks": ""
             }
            },
            "type": "scatter3d"
           }
          ],
          "scattercarpet": [
           {
            "marker": {
             "colorbar": {
              "outlinewidth": 0,
              "ticks": ""
             }
            },
            "type": "scattercarpet"
           }
          ],
          "scattergeo": [
           {
            "marker": {
             "colorbar": {
              "outlinewidth": 0,
              "ticks": ""
             }
            },
            "type": "scattergeo"
           }
          ],
          "scattergl": [
           {
            "marker": {
             "colorbar": {
              "outlinewidth": 0,
              "ticks": ""
             }
            },
            "type": "scattergl"
           }
          ],
          "scattermap": [
           {
            "marker": {
             "colorbar": {
              "outlinewidth": 0,
              "ticks": ""
             }
            },
            "type": "scattermap"
           }
          ],
          "scattermapbox": [
           {
            "marker": {
             "colorbar": {
              "outlinewidth": 0,
              "ticks": ""
             }
            },
            "type": "scattermapbox"
           }
          ],
          "scatterpolar": [
           {
            "marker": {
             "colorbar": {
              "outlinewidth": 0,
              "ticks": ""
             }
            },
            "type": "scatterpolar"
           }
          ],
          "scatterpolargl": [
           {
            "marker": {
             "colorbar": {
              "outlinewidth": 0,
              "ticks": ""
             }
            },
            "type": "scatterpolargl"
           }
          ],
          "scatterternary": [
           {
            "marker": {
             "colorbar": {
              "outlinewidth": 0,
              "ticks": ""
             }
            },
            "type": "scatterternary"
           }
          ],
          "surface": [
           {
            "colorbar": {
             "outlinewidth": 0,
             "ticks": ""
            },
            "colorscale": [
             [
              0,
              "#0d0887"
             ],
             [
              0.1111111111111111,
              "#46039f"
             ],
             [
              0.2222222222222222,
              "#7201a8"
             ],
             [
              0.3333333333333333,
              "#9c179e"
             ],
             [
              0.4444444444444444,
              "#bd3786"
             ],
             [
              0.5555555555555556,
              "#d8576b"
             ],
             [
              0.6666666666666666,
              "#ed7953"
             ],
             [
              0.7777777777777778,
              "#fb9f3a"
             ],
             [
              0.8888888888888888,
              "#fdca26"
             ],
             [
              1,
              "#f0f921"
             ]
            ],
            "type": "surface"
           }
          ],
          "table": [
           {
            "cells": {
             "fill": {
              "color": "#EBF0F8"
             },
             "line": {
              "color": "white"
             }
            },
            "header": {
             "fill": {
              "color": "#C8D4E3"
             },
             "line": {
              "color": "white"
             }
            },
            "type": "table"
           }
          ]
         },
         "layout": {
          "annotationdefaults": {
           "arrowcolor": "#2a3f5f",
           "arrowhead": 0,
           "arrowwidth": 1
          },
          "autotypenumbers": "strict",
          "coloraxis": {
           "colorbar": {
            "outlinewidth": 0,
            "ticks": ""
           }
          },
          "colorscale": {
           "diverging": [
            [
             0,
             "#8e0152"
            ],
            [
             0.1,
             "#c51b7d"
            ],
            [
             0.2,
             "#de77ae"
            ],
            [
             0.3,
             "#f1b6da"
            ],
            [
             0.4,
             "#fde0ef"
            ],
            [
             0.5,
             "#f7f7f7"
            ],
            [
             0.6,
             "#e6f5d0"
            ],
            [
             0.7,
             "#b8e186"
            ],
            [
             0.8,
             "#7fbc41"
            ],
            [
             0.9,
             "#4d9221"
            ],
            [
             1,
             "#276419"
            ]
           ],
           "sequential": [
            [
             0,
             "#0d0887"
            ],
            [
             0.1111111111111111,
             "#46039f"
            ],
            [
             0.2222222222222222,
             "#7201a8"
            ],
            [
             0.3333333333333333,
             "#9c179e"
            ],
            [
             0.4444444444444444,
             "#bd3786"
            ],
            [
             0.5555555555555556,
             "#d8576b"
            ],
            [
             0.6666666666666666,
             "#ed7953"
            ],
            [
             0.7777777777777778,
             "#fb9f3a"
            ],
            [
             0.8888888888888888,
             "#fdca26"
            ],
            [
             1,
             "#f0f921"
            ]
           ],
           "sequentialminus": [
            [
             0,
             "#0d0887"
            ],
            [
             0.1111111111111111,
             "#46039f"
            ],
            [
             0.2222222222222222,
             "#7201a8"
            ],
            [
             0.3333333333333333,
             "#9c179e"
            ],
            [
             0.4444444444444444,
             "#bd3786"
            ],
            [
             0.5555555555555556,
             "#d8576b"
            ],
            [
             0.6666666666666666,
             "#ed7953"
            ],
            [
             0.7777777777777778,
             "#fb9f3a"
            ],
            [
             0.8888888888888888,
             "#fdca26"
            ],
            [
             1,
             "#f0f921"
            ]
           ]
          },
          "colorway": [
           "#636efa",
           "#EF553B",
           "#00cc96",
           "#ab63fa",
           "#FFA15A",
           "#19d3f3",
           "#FF6692",
           "#B6E880",
           "#FF97FF",
           "#FECB52"
          ],
          "font": {
           "color": "#2a3f5f"
          },
          "geo": {
           "bgcolor": "white",
           "lakecolor": "white",
           "landcolor": "white",
           "showlakes": true,
           "showland": true,
           "subunitcolor": "#C8D4E3"
          },
          "hoverlabel": {
           "align": "left"
          },
          "hovermode": "closest",
          "mapbox": {
           "style": "light"
          },
          "paper_bgcolor": "white",
          "plot_bgcolor": "white",
          "polar": {
           "angularaxis": {
            "gridcolor": "#EBF0F8",
            "linecolor": "#EBF0F8",
            "ticks": ""
           },
           "bgcolor": "white",
           "radialaxis": {
            "gridcolor": "#EBF0F8",
            "linecolor": "#EBF0F8",
            "ticks": ""
           }
          },
          "scene": {
           "xaxis": {
            "backgroundcolor": "white",
            "gridcolor": "#DFE8F3",
            "gridwidth": 2,
            "linecolor": "#EBF0F8",
            "showbackground": true,
            "ticks": "",
            "zerolinecolor": "#EBF0F8"
           },
           "yaxis": {
            "backgroundcolor": "white",
            "gridcolor": "#DFE8F3",
            "gridwidth": 2,
            "linecolor": "#EBF0F8",
            "showbackground": true,
            "ticks": "",
            "zerolinecolor": "#EBF0F8"
           },
           "zaxis": {
            "backgroundcolor": "white",
            "gridcolor": "#DFE8F3",
            "gridwidth": 2,
            "linecolor": "#EBF0F8",
            "showbackground": true,
            "ticks": "",
            "zerolinecolor": "#EBF0F8"
           }
          },
          "shapedefaults": {
           "line": {
            "color": "#2a3f5f"
           }
          },
          "ternary": {
           "aaxis": {
            "gridcolor": "#DFE8F3",
            "linecolor": "#A2B1C6",
            "ticks": ""
           },
           "baxis": {
            "gridcolor": "#DFE8F3",
            "linecolor": "#A2B1C6",
            "ticks": ""
           },
           "bgcolor": "white",
           "caxis": {
            "gridcolor": "#DFE8F3",
            "linecolor": "#A2B1C6",
            "ticks": ""
           }
          },
          "title": {
           "x": 0.05
          },
          "xaxis": {
           "automargin": true,
           "gridcolor": "#EBF0F8",
           "linecolor": "#EBF0F8",
           "ticks": "",
           "title": {
            "standoff": 15
           },
           "zerolinecolor": "#EBF0F8",
           "zerolinewidth": 2
          },
          "yaxis": {
           "automargin": true,
           "gridcolor": "#EBF0F8",
           "linecolor": "#EBF0F8",
           "ticks": "",
           "title": {
            "standoff": 15
           },
           "zerolinecolor": "#EBF0F8",
           "zerolinewidth": 2
          }
         }
        },
        "title": {
         "text": "Daily Temperature Climatology – La Grange, TX (USC00414903)<br>2025-10-09"
        },
        "xaxis": {
         "title": {
          "text": "Day of Year"
         }
        },
        "yaxis": {
         "title": {
          "text": "Temperature (°C)"
         }
        }
       }
      }
     },
     "metadata": {},
     "output_type": "display_data"
    }
   ],
   "source": [
    "import plotly.graph_objects as go\n",
    "import datetime\n",
    "\n",
    "# Prepare climatology\n",
    "climo_plot = climo.copy()\n",
    "climo_plot[\"dayofyear\"] = range(1, len(climo_plot)+1)\n",
    "\n",
    "# Today's observed/forecast values (from MSN Weather feed)\n",
    "today = datetime.date.today()\n",
    "doy = today.timetuple().tm_yday\n",
    "today_low_f  = 74\n",
    "today_high_f = 95\n",
    "current_f    = 82\n",
    "\n",
    "# Convert to °C\n",
    "today_low  = (today_low_f - 32) * 5/9\n",
    "today_high = (today_high_f - 32) * 5/9\n",
    "current    = (current_f - 32) * 5/9\n",
    "\n",
    "# Build interactive figure\n",
    "fig = go.Figure()\n",
    "\n",
    "# Record envelope\n",
    "fig.add_traces([\n",
    "    go.Scatter(\n",
    "        x=climo_plot[\"dayofyear\"], y=climo_plot[\"record_max_temp\"],\n",
    "        line=dict(color=\"lightgray\"), name=\"Record Max\", mode=\"lines\"\n",
    "    ),\n",
    "    go.Scatter(\n",
    "        x=climo_plot[\"dayofyear\"], y=climo_plot[\"record_min_temp\"],\n",
    "        fill='tonexty', line=dict(color=\"lightgray\"), name=\"Record Min\",\n",
    "        mode=\"lines\"\n",
    "    )\n",
    "])\n",
    "\n",
    "# Normals\n",
    "fig.add_trace(go.Scatter(\n",
    "    x=climo_plot[\"dayofyear\"], y=climo_plot[\"average_max_temp\"],\n",
    "    line=dict(color=\"red\"), name=\"Avg Max (1991–2020)\"\n",
    "))\n",
    "fig.add_trace(go.Scatter(\n",
    "    x=climo_plot[\"dayofyear\"], y=climo_plot[\"average_min_temp\"],\n",
    "    line=dict(color=\"blue\"), name=\"Avg Min (1991–2020)\"\n",
    "))\n",
    "\n",
    "# Today's values\n",
    "fig.add_trace(go.Scatter(\n",
    "    x=[doy], y=[today_high], mode=\"markers\", marker=dict(color=\"red\", size=12, symbol=\"triangle-up\"),\n",
    "    name=\"Today's High\"\n",
    "))\n",
    "fig.add_trace(go.Scatter(\n",
    "    x=[doy], y=[today_low], mode=\"markers\", marker=dict(color=\"blue\", size=12, symbol=\"triangle-down\"),\n",
    "    name=\"Today's Low\"\n",
    "))\n",
    "fig.add_trace(go.Scatter(\n",
    "    x=[doy], y=[current], mode=\"markers\", marker=dict(color=\"black\", size=12, symbol=\"circle\"),\n",
    "    name=\"Current Temp\"\n",
    "))\n",
    "\n",
    "# Layout\n",
    "fig.update_layout(\n",
    "    title=f\"Daily Temperature Climatology – La Grange, TX (USC00414903)<br>{today}\",\n",
    "    xaxis_title=\"Day of Year\",\n",
    "    yaxis_title=\"Temperature (°C)\",\n",
    "    hovermode=\"x unified\",\n",
    "    template=\"plotly_white\"\n",
    ")\n",
    "\n",
    "fig.show()"
   ]
  }
 ],
 "metadata": {
  "kernelspec": {
   "display_name": "xarray-climate",
   "language": "python",
   "name": "python3"
  },
  "language_info": {
   "codemirror_mode": {
    "name": "ipython",
    "version": 3
   },
   "file_extension": ".py",
   "mimetype": "text/x-python",
   "name": "python",
   "nbconvert_exporter": "python",
   "pygments_lexer": "ipython3",
   "version": "3.13.7"
  }
 },
 "nbformat": 4,
 "nbformat_minor": 5
}
